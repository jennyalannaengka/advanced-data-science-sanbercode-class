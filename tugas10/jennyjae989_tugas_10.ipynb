{
  "nbformat": 4,
  "nbformat_minor": 0,
  "metadata": {
    "colab": {
      "name": "jennyjae989_tugas_10",
      "provenance": []
    },
    "kernelspec": {
      "name": "python3",
      "display_name": "Python 3"
    }
  },
  "cells": [
    {
      "cell_type": "code",
      "metadata": {
        "id": "8JV6-6vG_nw4"
      },
      "source": [
        "import pandas as pd\n",
        "import re\n",
        "import string"
      ],
      "execution_count": null,
      "outputs": []
    },
    {
      "cell_type": "code",
      "metadata": {
        "id": "4oouxxqhAN4I"
      },
      "source": [
        "df = pd.read_csv('tweet.csv')"
      ],
      "execution_count": null,
      "outputs": []
    },
    {
      "cell_type": "code",
      "metadata": {
        "id": "37cfrLt2BmpN"
      },
      "source": [
        "list_hasil1 = []\n",
        "list_hasil2 = []\n",
        "for col in df:\n",
        "  for kalimat in df[col]:\n",
        "    #CASE FOLDING\n",
        "    #lowercase\n",
        "    hasil = kalimat.lower()\n",
        "    #menghapus angka\n",
        "    hasil = re.sub(r\"\\d+\", \"\", hasil)\n",
        "    #menghapus tanda baca\n",
        "    hasil = hasil.translate(hasil.maketrans(\"\",\"\",string.punctuation))\n",
        "    #menghapus whitespaces\n",
        "    hasil = hasil.strip()\n",
        "    #STOPWORD\n",
        "    stopwords = ['dan', 'yang', 'untuk', 'pada', 'ke', 'karena', 'oleh', 'akan', 'dengan']\n",
        "    hasil = hasil.split()\n",
        "    hasil  = [word for word in hasil if word not in stopwords]\n",
        "    hasil = ' '.join(hasil)\n",
        "    if col == 'Kompascom':\n",
        "      list_hasil1.append(hasil)\n",
        "    else:\n",
        "      list_hasil2.append(hasil)"
      ],
      "execution_count": null,
      "outputs": []
    },
    {
      "cell_type": "code",
      "metadata": {
        "colab": {
          "base_uri": "https://localhost:8080/"
        },
        "id": "C3Oi7BqO_eTJ",
        "outputId": "6e920294-c7ec-41ef-be2c-1c2d58fc2af8"
      },
      "source": [
        "df_hasil = pd.DataFrame({\n",
        "    'Kompascom' : list_hasil1,\n",
        "    'Pikiranrakyat' : list_hasil2\n",
        "})\n",
        "print(df_hasil)"
      ],
      "execution_count": null,
      "outputs": [
        {
          "output_type": "stream",
          "text": [
            "                                            Kompascom                                      Pikiranrakyat\n",
            "0   kpu sudah melakukan rapat koordinasi rakor bim...  kpu sudah melakukan rapat koordinasi rakor bim...\n",
            "1   jekek memiliki prioritas empat sektor pembangu...  jekek memiliki prioritas empat sektor pembangu...\n",
            "2   sahbirin diusung koalisi partai golkar pan pdi...  sahbirin diusung koalisi partai golkar pan pdi...\n",
            "3   meggy wulandari mengaku kaget setelah mengetah...  meggy wulandari mengaku kaget setelah mengetah...\n",
            "4   menteri perdagangan agus suparmanto mengatakan...  menteri perdagangan agus suparmanto mengatakan...\n",
            "5   rencana kami mencatat apa aja nih kirakira dia...  rencana kami mencatat apa aja nih kirakira dia...\n",
            "6   asupan zat besi tidak adekuat bukan hanya dapa...  asupan zat besi tidak adekuat bukan hanya dapa...\n",
            "7   lubang hitam supermasif paling mengerikan di p...  lubang hitam supermasif paling mengerikan di p...\n",
            "8   peringatan dini bmkg gelombang tinggi di sejum...  peringatan dini bmkg gelombang tinggi di sejum...\n",
            "9   mendapatkan hunian ini konsumen perlu merogoh ...  mendapatkan hunian ini konsumen perlu merogoh ...\n",
            "10  iga mengatakan lagu bergenre pop rock itu dici...  iga mengatakan lagu bergenre pop rock itu dici...\n",
            "11  hal pertama paling ia rasakan adalah pudarnya ...  hal pertama paling ia rasakan adalah pudarnya ...\n",
            "12  ada batasan jam bagi para lansia ingin menggun...  ada batasan jam bagi para lansia ingin menggun...\n",
            "13  awal januari ada festival catur daring bertaju...  awal januari ada festival catur daring bertaju...\n",
            "14  ada beberapa jenis anjing memang dikenal memil...  ada beberapa jenis anjing memang dikenal memil...\n",
            "15  dalam dua minggu depan epic games bakal menggr...  dalam dua minggu depan epic games bakal menggr...\n",
            "16  lini iphone sudah bisa dibeli di tanah air ber...  lini iphone sudah bisa dibeli di tanah air ber...\n",
            "17  unggahan narasi pertanyaan apakah truk tangki ...  unggahan narasi pertanyaan apakah truk tangki ...\n",
            "18  penelitian ini mengungkapkan lima tanda atau g...  penelitian ini mengungkapkan lima tanda atau g...\n",
            "19  tahun lalu seorang pedagang buah sayur kaki li...  tahun lalu seorang pedagang buah sayur kaki li...\n",
            "20  seorang psk di bali mengaku diperas disetubuhi...  seorang psk di bali mengaku diperas disetubuhi...\n",
            "21  moon ga young kemudian berteriak kencang lalu ...  moon ga young kemudian berteriak kencang lalu ...\n",
            "22  meski menjadi tahanan rumah vanessa angel juga...  meski menjadi tahanan rumah vanessa angel juga...\n",
            "23  penutupan itu sendiri rencananya diberlakukan ...  penutupan itu sendiri rencananya diberlakukan ...\n",
            "24  cara membuat sushi dragon roll dari koki profe...  cara membuat sushi dragon roll dari koki profe...\n",
            "25  kabid humas polda metro jaya kombes yusri yunu...  kabid humas polda metro jaya kombes yusri yunu...\n",
            "26  bank mandiri menyerap rp triliun atau persen d...  bank mandiri menyerap rp triliun atau persen d...\n",
            "27  semua fasilitas kesehatan melayani rapid test ...  semua fasilitas kesehatan melayani rapid test ...\n",
            "28  setiap vaksin memiliki kriteria karakter terse...  setiap vaksin memiliki kriteria karakter terse...\n",
            "29  menurutnya aturan wajib swab memang membuat pe...  menurutnya aturan wajib swab memang membuat pe...\n",
            "30  rt kompasiana pergerakan feminisme dalam skena...  rt kompasiana pergerakan feminisme dalam skena...\n",
            "31  rt kompasiana hal penting harus diperhatikan s...  rt kompasiana hal penting harus diperhatikan s...\n",
            "32              rt kompasiana egolara httpstcolbgumgg              rt kompasiana egolara httpstcolbgumgg\n",
            "33  rt kompasiana firmino remukkan parkir bus mour...  rt kompasiana firmino remukkan parkir bus mour...\n",
            "34  berbeda dari buku pertama walk with me cetakan...  berbeda dari buku pertama walk with me cetakan...\n",
            "35  vanessa angel keluar dari lapas pondok bambu j...  vanessa angel keluar dari lapas pondok bambu j...\n",
            "36  kai commuter tak mengoperasikan kereta tambaha...  kai commuter tak mengoperasikan kereta tambaha...\n",
            "37  hal tersebut sekolahsekolah guru atau pegawain...  hal tersebut sekolahsekolah guru atau pegawain...\n",
            "38  sebelum dinyatakan positif covid nazhrul bersa...  sebelum dinyatakan positif covid nazhrul bersa...\n",
            "39  ariza tak keberatan asal jalur ditempuh menyam...  ariza tak keberatan asal jalur ditempuh menyam...\n",
            "40  namun perda tersebut digugat uji materi warga ...  namun perda tersebut digugat uji materi warga ...\n",
            "41  adapun besaran dendanya paling besar rp juta p...  adapun besaran dendanya paling besar rp juta p...\n",
            "42  perda nomor tahun tersebut mengatur beragam ke...  perda nomor tahun tersebut mengatur beragam ke...\n",
            "43  wakil gubernur dki jakarta ahmad riza patria m...  wakil gubernur dki jakarta ahmad riza patria m...\n",
            "44  pebasket naturalisasi berdarah indonesiafilipi...  pebasket naturalisasi berdarah indonesiafilipi...\n",
            "45  tatalogam group meluncurkan dua produk baru ya...  tatalogam group meluncurkan dua produk baru ya...\n",
            "46  terdapat ketentuan patut diperhatikan investor...  terdapat ketentuan patut diperhatikan investor...\n",
            "47  metode memasak air fryer juga dapat mengurangi...  metode memasak air fryer juga dapat mengurangi...\n",
            "48  saleh mengatakan pemerintah dapat mengajukan r...  saleh mengatakan pemerintah dapat mengajukan r...\n",
            "49  dki jakarta terus memperbanyak pengetesan meto...  dki jakarta terus memperbanyak pengetesan meto...\n"
          ],
          "name": "stdout"
        }
      ]
    },
    {
      "cell_type": "code",
      "metadata": {
        "id": "ANVtR9HeGszm"
      },
      "source": [
        "df_hasil.to_csv('jennyjae989_tugas_10.csv', index=False)"
      ],
      "execution_count": null,
      "outputs": []
    }
  ]
}