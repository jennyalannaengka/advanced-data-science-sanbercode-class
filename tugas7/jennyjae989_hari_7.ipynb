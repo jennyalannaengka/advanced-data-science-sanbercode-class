{
  "nbformat": 4,
  "nbformat_minor": 0,
  "metadata": {
    "colab": {
      "name": "jennyjae989_hari_7.ipynb",
      "provenance": []
    },
    "kernelspec": {
      "name": "python3",
      "display_name": "Python 3"
    }
  },
  "cells": [
    {
      "cell_type": "code",
      "metadata": {
        "id": "V_BMEEb0YVjb",
        "colab": {
          "base_uri": "https://localhost:8080/"
        },
        "outputId": "ceaf05ef-571a-4e65-f1fe-274f27594cec"
      },
      "source": [
        "pip install beautifulsoup4"
      ],
      "execution_count": 1,
      "outputs": [
        {
          "output_type": "stream",
          "text": [
            "Requirement already satisfied: beautifulsoup4 in /usr/local/lib/python3.6/dist-packages (4.6.3)\n"
          ],
          "name": "stdout"
        }
      ]
    },
    {
      "cell_type": "code",
      "metadata": {
        "id": "07m_hwC0ODhq"
      },
      "source": [
        "from urllib.request import urlopen\r\n",
        "from bs4 import BeautifulSoup"
      ],
      "execution_count": 2,
      "outputs": []
    },
    {
      "cell_type": "code",
      "metadata": {
        "id": "gpQvS5ibPf_T"
      },
      "source": [
        "def kompas():\r\n",
        "  alamat = \"https://www.kompas.com/\"\r\n",
        "  html = urlopen(alamat)\r\n",
        "  data = BeautifulSoup(html, 'html.parser')\r\n",
        "  items = data.findAll(\"a\", {\"class\":\"most__link\"})\r\n",
        "  print(\"Judul Berita Populer\")\r\n",
        "  for item in items:\r\n",
        "    print(item.get_text())"
      ],
      "execution_count": 8,
      "outputs": []
    },
    {
      "cell_type": "code",
      "metadata": {
        "colab": {
          "base_uri": "https://localhost:8080/"
        },
        "id": "wXoK31EsW_z4",
        "outputId": "b3b963bc-088a-41ea-98a0-9834972afe01"
      },
      "source": [
        "kompas()"
      ],
      "execution_count": 9,
      "outputs": [
        {
          "output_type": "stream",
          "text": [
            "Judul Berita Populer\n",
            "\n",
            "Derita Regina, 2 Anaknya Menderita Gizi Buruk, Makan Hanya Sekali Sehari dan Tinggal di Gubuk\n",
            "Dibaca 35.805 kali\n",
            "\n",
            "\n",
            "Artis Salshabilla Adriani Tabrak Dua Mobil di Kemang\n",
            "Dibaca 34.751 kali\n",
            "\n",
            "\n",
            "Kala Aksi Walk Out Anggota Dewan DKI Berbalik Jadi Bumerang...\n",
            "Dibaca 29.962 kali\n",
            "\n",
            "\n",
            "Mengapa Negara-negara Arab Kini secara Resmi Mengakui Israel?\n",
            "Dibaca 26.824 kali\n",
            "\n",
            "\n",
            "Update: Daftar 64 Daerah Zona Merah Covid-19, Terbanyak Masih di Jateng\n",
            "Dibaca 18.250 kali\n",
            "\n",
            "\n",
            "Luhut Minta Mal hingga Tempat Hiburan di DKI Tutup Pukul 19.00 WIB\n",
            "Dibaca 16.023 kali\n",
            "\n",
            "\n",
            "Soal Ujian \"Anies Diejek Mega\" Berbuntut Ancaman Laporan Polisi\n",
            "Dibaca 8.048 kali\n",
            "\n",
            "\n",
            "Jangan Menggelar Kasur pada Kabin Mobil Saat Pergi Berlibur\n",
            "Dibaca 6.538 kali\n",
            "\n",
            "\n",
            "Akibat Pandemi, Susi Air Tunda Rencana Tambah Rute Penerbangan\n",
            "Dibaca 6.035 kali\n",
            "\n",
            "\n",
            "Sopir Travel Ini Bisa Menguras Rekening di ATM Penumpangnya, Begini Modusnya\n",
            "Dibaca 5.844 kali\n",
            "\n"
          ],
          "name": "stdout"
        }
      ]
    }
  ]
}