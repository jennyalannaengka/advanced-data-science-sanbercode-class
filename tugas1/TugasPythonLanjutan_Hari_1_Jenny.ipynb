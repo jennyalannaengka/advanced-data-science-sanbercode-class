{
  "nbformat": 4,
  "nbformat_minor": 0,
  "metadata": {
    "colab": {
      "name": "TugasPythonLanjutan_Hari_1_Jenny.ipynb",
      "provenance": [],
      "collapsed_sections": []
    },
    "kernelspec": {
      "name": "python3",
      "display_name": "Python 3"
    }
  },
  "cells": [
    {
      "cell_type": "markdown",
      "metadata": {
        "id": "8kU67vB9QJjz"
      },
      "source": [
        "#Nomor 1"
      ]
    },
    {
      "cell_type": "code",
      "metadata": {
        "colab": {
          "base_uri": "https://localhost:8080/"
        },
        "id": "k8FVKYignhEx",
        "outputId": "262068d7-6621-4412-b64f-58d4078a85f5"
      },
      "source": [
        "print('Saya mengenal bahasa pemrograman python dari pelatihan machine learning.\\nKesan saya belajar bahasa pemrograman python adalah bahasanya lebih mudah dimengerti, bahasanya seperti bahasa sehari-hari.\\nAda beberapa hal di bahasa pemrograman lain tidak bisa, namun bisa di python.\\nDikarenakan saya sejak awal mengenal python dari pelatihan machine learning, kebanyakan saya menggunakan python untuk machine learning')"
      ],
      "execution_count": null,
      "outputs": [
        {
          "output_type": "stream",
          "text": [
            "Saya mengenal bahasa pemrograman python dari pelatihan machine learning.\n",
            "Kesan saya belajar bahasa pemrograman python adalah bahasanya lebih mudah dimengerti, bahasanya seperti bahasa sehari-hari.\n",
            "Ada beberapa hal di bahasa pemrograman lain tidak bisa, namun bisa di python.\n",
            "Dikarenakan saya sejak awal mengenal python dari pelatihan machine learning, kebanyakan saya menggunakan python untuk machine learning\n"
          ],
          "name": "stdout"
        }
      ]
    },
    {
      "cell_type": "markdown",
      "metadata": {
        "id": "-WgcnzxJzwzu"
      },
      "source": [
        "#Nomor 2"
      ]
    },
    {
      "cell_type": "code",
      "metadata": {
        "colab": {
          "base_uri": "https://localhost:8080/"
        },
        "id": "WJflyllsoKKd",
        "outputId": "88a69946-fbcf-4062-99ea-7eb6576d02f4"
      },
      "source": [
        "print('Saya berharap kedepannya akan ada pengimplementasian secara langsung dari machine learning dan terdapat materi tentang tensorflow')"
      ],
      "execution_count": null,
      "outputs": [
        {
          "output_type": "stream",
          "text": [
            "Saya berharap kedepannya akan ada pengimplementasian secara langsung dari machine learning dan terdapat materi tentang tensorflow\n"
          ],
          "name": "stdout"
        }
      ]
    },
    {
      "cell_type": "markdown",
      "metadata": {
        "id": "BklLwaXJ4SpZ"
      },
      "source": [
        "#Nomor 3 "
      ]
    },
    {
      "cell_type": "markdown",
      "metadata": {
        "id": "AT1_PVUE3WYh"
      },
      "source": [
        "Buatlah sebuah Class yang memiliki beberapa fungsi berikut:\n",
        "a. Mengkapitalisasi huruf pertama sebuah kalimat,\n",
        "\n",
        "b. Mengecilkan semua huruf pada kalimat tersebut,\n",
        "\n",
        "c. Mengkapitalisasi semua huruf pada kalimat, dan\n",
        "\n",
        "d. Memisahkan setiap kata menjadi list\n",
        "\n",
        "Ubah kalimat berikut ini,\n",
        "\n",
        "Saya adalah warga negara Indonesia."
      ]
    },
    {
      "cell_type": "code",
      "metadata": {
        "colab": {
          "base_uri": "https://localhost:8080/"
        },
        "id": "JNAgCVtLzwgC",
        "outputId": "0e5b394c-9d20-480a-cebd-c3c92a54c37b"
      },
      "source": [
        "class manipulasi:\n",
        "  def __init__(self, data):\n",
        "    self.data = data\n",
        "  \n",
        "  def kapitalawal(self):\n",
        "    data_baru = self.data.capitalize()\n",
        "    print(data_baru)\n",
        "\n",
        "  def kecil(self):\n",
        "    data_baru = self.data.lower()\n",
        "    print(data_baru)\n",
        "\n",
        "  def kapital(self):\n",
        "    data_baru = self.data.upper()\n",
        "    print(data_baru)\n",
        "\n",
        "  def menjadilist(self):\n",
        "    data_baru = self.data.rsplit(' ')\n",
        "    print(data_baru)\n",
        "\n",
        "data1 = manipulasi('saya tinggal di Indonesia')\n",
        "print(f'data = {data1.data}')\n",
        "data1.kapitalawal()\n",
        "data1.kecil()\n",
        "data1.kapital()\n",
        "data1.menjadilist()\n",
        "\n"
      ],
      "execution_count": null,
      "outputs": [
        {
          "output_type": "stream",
          "text": [
            "data = saya tinggal di Indonesia\n",
            "Saya tinggal di indonesia\n",
            "saya tinggal di indonesia\n",
            "SAYA TINGGAL DI INDONESIA\n",
            "['saya', 'tinggal', 'di', 'Indonesia']\n"
          ],
          "name": "stdout"
        }
      ]
    }
  ]
}